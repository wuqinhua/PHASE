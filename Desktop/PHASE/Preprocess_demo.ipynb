{
 "cells": [
  {
   "cell_type": "code",
   "execution_count": 10,
   "metadata": {},
   "outputs": [],
   "source": [
    "import os\n",
    "import numpy as np\n",
    "import pandas as pd\n",
    "import scanpy as sc\n",
    "import anndata as ad"
   ]
  },
  {
   "cell_type": "code",
   "execution_count": 3,
   "metadata": {},
   "outputs": [],
   "source": [
    "# Set the working directory\n",
    "os.chdir(\"/users/yourpath\")"
   ]
  },
  {
   "cell_type": "markdown",
   "metadata": {},
   "source": [
    "### 1. Filter high variable genes"
   ]
  },
  {
   "cell_type": "code",
   "execution_count": 4,
   "metadata": {},
   "outputs": [],
   "source": [
    "## Load data (anndata object)\n",
    "adata = ad.read_h5ad(\"./data_demo.h5ad\")"
   ]
  },
  {
   "cell_type": "code",
   "execution_count": null,
   "metadata": {},
   "outputs": [],
   "source": [
    "## Normalize total counts to 1e4 per cell\n",
    "sc.pp.normalize_total(adata, target_sum=1e4)\n",
    "\n",
    "## Perform log transformation on the data\n",
    "sc.pp.log1p(adata)\n",
    "\n",
    "## Identify highly variable genes (default: top 5000 genes)\n",
    "batch_key = \"batch\" # Key for batch information\n",
    "sc.pp.highly_variable_genes(adata, n_top_genes=5000, flavor=\"cell_ranger\", batch_key= batch_key,layer=None)"
   ]
  },
  {
   "cell_type": "code",
   "execution_count": 7,
   "metadata": {},
   "outputs": [],
   "source": [
    "## Save raw data for reference\n",
    "adata.raw = adata\n",
    "\n",
    "## Subset the AnnData object to only include highly variable genes\n",
    "adata = adata[:,adata.var.highly_variable]"
   ]
  },
  {
   "cell_type": "markdown",
   "metadata": {},
   "source": [
    "### 2. UMAP computation"
   ]
  },
  {
   "cell_type": "code",
   "execution_count": null,
   "metadata": {},
   "outputs": [],
   "source": [
    "## Scale the data (cap the values at 10 for numerical stability)\n",
    "sc.pp.scale(adata, max_value=10)\n",
    "\n",
    "## Perform PCA for dimensionality reduction\n",
    "sc.tl.pca(adata, svd_solver='arpack')\n",
    "\n",
    "## Construct a neighborhood graph\n",
    "sc.pp.neighbors(adata, n_neighbors=10, n_pcs=50)"
   ]
  },
  {
   "cell_type": "code",
   "execution_count": null,
   "metadata": {},
   "outputs": [],
   "source": [
    "## Batch effect correction using Harmony\n",
    "sc.external.pp.harmony_integrate(adata, 'sample_id')\n",
    "\n",
    "## Replace the PCA coordinates with the Harmony-corrected PCA results\n",
    "adata.obsm['X_pca'] = adata.obsm['X_pca_harmony']"
   ]
  },
  {
   "cell_type": "code",
   "execution_count": null,
   "metadata": {},
   "outputs": [],
   "source": [
    "## Recompute the neighborhood graph and calculate UMAP embedding\n",
    "sc.pp.neighbors(adata, n_neighbors=10, n_pcs=30)\n",
    "sc.tl.umap(adata)"
   ]
  },
  {
   "cell_type": "markdown",
   "metadata": {},
   "source": [
    "### 3. Cell annotation (example: Automatic annotation by CellTypist)"
   ]
  },
  {
   "cell_type": "code",
   "execution_count": null,
   "metadata": {},
   "outputs": [],
   "source": [
    "import celltypist\n",
    "from celltypist import models"
   ]
  },
  {
   "cell_type": "code",
   "execution_count": null,
   "metadata": {},
   "outputs": [],
   "source": [
    "## Load the original dataset \n",
    "adatas = ad.read_h5ad(\"./data_demo.h5ad\")"
   ]
  },
  {
   "cell_type": "code",
   "execution_count": null,
   "metadata": {},
   "outputs": [],
   "source": [
    "## Normalize total counts and log-transform the data\n",
    "sc.pp.normalize_total(adatas, target_sum=1e4)\n",
    "sc.pp.log1p(adatas)\n",
    "\n",
    "## Example operation: recover original expression values\n",
    "adatas.X.expm1().sum(axis = 1)"
   ]
  },
  {
   "cell_type": "code",
   "execution_count": null,
   "metadata": {},
   "outputs": [],
   "source": [
    "## Load a pretrained model in CellTypist\n",
    "model = models.Model.load(model = 'Healthy_COVID19_PBMC.pkl')\n",
    "\n",
    "## Annotate the dataset using the pretrained model\n",
    "predictions = celltypist.annotate(adatas, model = 'Healthy_COVID19_PBMC.pkl', majority_voting = True)"
   ]
  },
  {
   "cell_type": "code",
   "execution_count": null,
   "metadata": {},
   "outputs": [],
   "source": [
    "## Integrate the predictions back into the AnnData object\n",
    "adatas = predictions.to_adata()\n",
    "adatas.obs[\"predicted_labels\"] = adata.obs[\"predicted_labels\"]\n",
    "adatas.obs[\"over_clustering\"] = adata.obs[\"over_clustering\"]\n",
    "adatas.obs[\"majority_voting\"] = adata.obs[\"majority_voting\"]"
   ]
  },
  {
   "cell_type": "code",
   "execution_count": null,
   "metadata": {},
   "outputs": [],
   "source": [
    "## Save the annotated dataset\n",
    "adata.write(\"./data_demo_anno.h5ad\")"
   ]
  }
 ],
 "metadata": {
  "kernelspec": {
   "display_name": "phase",
   "language": "python",
   "name": "python3"
  },
  "language_info": {
   "codemirror_mode": {
    "name": "ipython",
    "version": 3
   },
   "file_extension": ".py",
   "mimetype": "text/x-python",
   "name": "python",
   "nbconvert_exporter": "python",
   "pygments_lexer": "ipython3",
   "version": "3.10.14"
  }
 },
 "nbformat": 4,
 "nbformat_minor": 2
}
